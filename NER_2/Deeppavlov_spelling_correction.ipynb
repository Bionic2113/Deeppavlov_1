{
 "cells": [
  {
   "cell_type": "code",
   "execution_count": 1,
   "id": "de28dc53",
   "metadata": {},
   "outputs": [
    {
     "name": "stderr",
     "output_type": "stream",
     "text": [
      "2022-11-30 19:59:00.447 INFO in 'deeppavlov.download'['download'] at line 138: Skipped http://files.deeppavlov.ai/lang_models/ru_wiyalen_no_punkt.arpa.binary.gz download because of matching hashes\n",
      "2022-11-30 19:59:01.41 INFO in 'deeppavlov.download'['download'] at line 138: Skipped http://files.deeppavlov.ai/deeppavlov_data/vocabs/russian_words_vocab.dict.gz download because of matching hashes\n"
     ]
    }
   ],
   "source": [
    "import sys\n",
    "\n",
    "from deeppavlov import build_model, configs\n",
    "\n",
    "CONFIG_PATH = configs.spelling_correction.levenshtein_corrector_ru\n",
    "\n",
    "model = build_model(CONFIG_PATH, download=True)\n",
    "for line in sys.stdin:\n",
    "    print(model([line])[0], flush=True)"
   ]
  },
  {
   "cell_type": "code",
   "execution_count": 2,
   "id": "2aecf577",
   "metadata": {},
   "outputs": [],
   "source": [
    "text = [model([\"пливет, я лублю кушать мондарины\"]), model(['Миня завут Каша. Мне дисять лет'])]"
   ]
  },
  {
   "cell_type": "code",
   "execution_count": 3,
   "id": "c600cf4b",
   "metadata": {},
   "outputs": [
    {
     "name": "stdout",
     "output_type": "stream",
     "text": [
      "['меня зовут каша мне десять лет']\n"
     ]
    }
   ],
   "source": [
    "print(text[1])"
   ]
  },
  {
   "cell_type": "code",
   "execution_count": 4,
   "id": "6d4877b2",
   "metadata": {},
   "outputs": [
    {
     "name": "stdout",
     "output_type": "stream",
     "text": [
      "['привет, я люблю кушать мандарины']\n",
      "['меня зовут каша мне десять лет']\n"
     ]
    }
   ],
   "source": [
    "for i in text:\n",
    "    print(i)"
   ]
  },
  {
   "cell_type": "code",
   "execution_count": null,
   "id": "7041537c",
   "metadata": {},
   "outputs": [],
   "source": []
  }
 ],
 "metadata": {
  "kernelspec": {
   "display_name": "deeppavlov",
   "language": "python",
   "name": "deeppavlov"
  },
  "language_info": {
   "codemirror_mode": {
    "name": "ipython",
    "version": 3
   },
   "file_extension": ".py",
   "mimetype": "text/x-python",
   "name": "python",
   "nbconvert_exporter": "python",
   "pygments_lexer": "ipython3",
   "version": "3.8.15"
  }
 },
 "nbformat": 4,
 "nbformat_minor": 5
}
